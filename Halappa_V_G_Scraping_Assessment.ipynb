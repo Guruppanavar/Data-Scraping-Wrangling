{
 "cells": [
  {
   "cell_type": "code",
   "execution_count": 1,
   "metadata": {},
   "outputs": [],
   "source": [
    "import pandas as pd\n",
    "import bs4\n",
    "import selenium\n",
    "import requests"
   ]
  },
  {
   "cell_type": "code",
   "execution_count": 2,
   "metadata": {},
   "outputs": [],
   "source": [
    "from selenium import webdriver"
   ]
  },
  {
   "cell_type": "markdown",
   "metadata": {},
   "source": [
    "## First Question"
   ]
  },
  {
   "cell_type": "code",
   "execution_count": 3,
   "metadata": {},
   "outputs": [],
   "source": [
    "\n",
    "browser = webdriver.Chrome('chromedriver.exe')\n",
    "browser.get('https://www.gsmarena.com/apple_iphone_6-reviews-6378.php')"
   ]
  },
  {
   "cell_type": "code",
   "execution_count": 4,
   "metadata": {},
   "outputs": [
    {
     "name": "stdout",
     "output_type": "stream",
     "text": [
      "20\n"
     ]
    }
   ],
   "source": [
    "rev = browser.find_elements_by_css_selector('div.user-thread')\n",
    "print(len(rev))"
   ]
  },
  {
   "cell_type": "markdown",
   "metadata": {},
   "source": [
    "# Second Question And Third Question"
   ]
  },
  {
   "cell_type": "code",
   "execution_count": 6,
   "metadata": {},
   "outputs": [
    {
     "data": {
      "text/html": [
       "<div>\n",
       "<style scoped>\n",
       "    .dataframe tbody tr th:only-of-type {\n",
       "        vertical-align: middle;\n",
       "    }\n",
       "\n",
       "    .dataframe tbody tr th {\n",
       "        vertical-align: top;\n",
       "    }\n",
       "\n",
       "    .dataframe thead th {\n",
       "        text-align: right;\n",
       "    }\n",
       "</style>\n",
       "<table border=\"1\" class=\"dataframe\">\n",
       "  <thead>\n",
       "    <tr style=\"text-align: right;\">\n",
       "      <th></th>\n",
       "      <th>ratingvalue</th>\n",
       "      <th>reviewdate</th>\n",
       "      <th>reviewtext</th>\n",
       "      <th>upvotes</th>\n",
       "      <th>username</th>\n",
       "    </tr>\n",
       "  </thead>\n",
       "  <tbody>\n",
       "    <tr>\n",
       "      <th>0</th>\n",
       "      <td>0</td>\n",
       "      <td>17 hours ago</td>\n",
       "      <td>hi, need suggestion. iPhone 6 32GB is availabl...</td>\n",
       "      <td>None</td>\n",
       "      <td>Anonymous</td>\n",
       "    </tr>\n",
       "    <tr>\n",
       "      <th>1</th>\n",
       "      <td>0</td>\n",
       "      <td>04 Oct 2018</td>\n",
       "      <td>None</td>\n",
       "      <td>None</td>\n",
       "      <td>None</td>\n",
       "    </tr>\n",
       "    <tr>\n",
       "      <th>2</th>\n",
       "      <td>0</td>\n",
       "      <td>02 Oct 2018</td>\n",
       "      <td>R u sure it's worth buying with that price of ...</td>\n",
       "      <td>None</td>\n",
       "      <td>Jack</td>\n",
       "    </tr>\n",
       "    <tr>\n",
       "      <th>3</th>\n",
       "      <td>0</td>\n",
       "      <td>02 Oct 2018</td>\n",
       "      <td>I have been using the IPhone 6 for 4 months no...</td>\n",
       "      <td>None</td>\n",
       "      <td>None</td>\n",
       "    </tr>\n",
       "    <tr>\n",
       "      <th>4</th>\n",
       "      <td>1</td>\n",
       "      <td>30 Sep 2018</td>\n",
       "      <td>Is this phone still worth buying? How it work ...</td>\n",
       "      <td>None</td>\n",
       "      <td>None</td>\n",
       "    </tr>\n",
       "  </tbody>\n",
       "</table>\n",
       "</div>"
      ],
      "text/plain": [
       "  ratingvalue    reviewdate  \\\n",
       "0           0  17 hours ago   \n",
       "1           0   04 Oct 2018   \n",
       "2           0   02 Oct 2018   \n",
       "3           0   02 Oct 2018   \n",
       "4           1   30 Sep 2018   \n",
       "\n",
       "                                          reviewtext upvotes   username  \n",
       "0  hi, need suggestion. iPhone 6 32GB is availabl...    None  Anonymous  \n",
       "1                                               None    None       None  \n",
       "2  R u sure it's worth buying with that price of ...    None       Jack  \n",
       "3  I have been using the IPhone 6 for 4 months no...    None       None  \n",
       "4  Is this phone still worth buying? How it work ...    None       None  "
      ]
     },
     "execution_count": 6,
     "metadata": {},
     "output_type": "execute_result"
    }
   ],
   "source": [
    "\n",
    "def get_info(review, selector , attribute):\n",
    "    try:    \n",
    "        tag = review.find_element_by_css_selector(selector)\n",
    "    \n",
    "        tag = tag.get_attribute(attribute)\n",
    "    except:\n",
    "        tag=None\n",
    "    return tag\n",
    "df_rev=pd.DataFrame(columns={'username','reviewdate','reviewtext','upvotes','ratingvalue'})\n",
    "for review in rev:\n",
    "    username = get_info(review, 'li.uname2','innerHTML')\n",
    "    reviewdate = get_info(review,'time','innerHTML')\n",
    "    reviewtext= get_info(review,'span.uinreply-msg','innerHTML')\n",
    "    upvotes = get_info(review,'span.uavatar-stat post-count','innerHTML')\n",
    "    ratingvalue=get_info(review,'span.thumbs-score','innerHTML')\n",
    "    curr_review={'username':username,\n",
    "             'reviewdate':reviewdate,\n",
    "             'reviewtext':reviewtext,\n",
    "             'upvotes':upvotes,\n",
    "             'ratingvalue':ratingvalue\n",
    "             }\n",
    "    df_reviews= df_reviews.append(curr_review,ignore_index=True)\n",
    "df_reviews.head()"
   ]
  },
  {
   "cell_type": "markdown",
   "metadata": {},
   "source": [
    "# Fourth Question"
   ]
  },
  {
   "cell_type": "markdown",
   "metadata": {},
   "source": [
    "# Creating Urls"
   ]
  },
  {
   "cell_type": "code",
   "execution_count": 7,
   "metadata": {},
   "outputs": [
    {
     "name": "stdout",
     "output_type": "stream",
     "text": [
      "['https://www.gsmarena.com/apple_iphone_6-reviews-6378p2.php', 'https://www.gsmarena.com/apple_iphone_6-reviews-6378p3.php', 'https://www.gsmarena.com/apple_iphone_6-reviews-6378p4.php', 'https://www.gsmarena.com/apple_iphone_6-reviews-6378p5.php', 'https://www.gsmarena.com/apple_iphone_6-reviews-6378p6.php', 'https://www.gsmarena.com/apple_iphone_6-reviews-6378p7.php', 'https://www.gsmarena.com/apple_iphone_6-reviews-6378p8.php', 'https://www.gsmarena.com/apple_iphone_6-reviews-6378p9.php', 'https://www.gsmarena.com/apple_iphone_6-reviews-6378p10.php', 'https://www.gsmarena.com/apple_iphone_6-reviews-6378p11.php', 'https://www.gsmarena.com/apple_iphone_6-reviews-6378p12.php', 'https://www.gsmarena.com/apple_iphone_6-reviews-6378p13.php', 'https://www.gsmarena.com/apple_iphone_6-reviews-6378p14.php', 'https://www.gsmarena.com/apple_iphone_6-reviews-6378p15.php', 'https://www.gsmarena.com/apple_iphone_6-reviews-6378p16.php', 'https://www.gsmarena.com/apple_iphone_6-reviews-6378p17.php', 'https://www.gsmarena.com/apple_iphone_6-reviews-6378p18.php', 'https://www.gsmarena.com/apple_iphone_6-reviews-6378p19.php', 'https://www.gsmarena.com/apple_iphone_6-reviews-6378p20.php', 'https://www.gsmarena.com/apple_iphone_6-reviews-6378p21.php', 'https://www.gsmarena.com/apple_iphone_6-reviews-6378p22.php', 'https://www.gsmarena.com/apple_iphone_6-reviews-6378p23.php', 'https://www.gsmarena.com/apple_iphone_6-reviews-6378p24.php', 'https://www.gsmarena.com/apple_iphone_6-reviews-6378p25.php', 'https://www.gsmarena.com/apple_iphone_6-reviews-6378p26.php', 'https://www.gsmarena.com/apple_iphone_6-reviews-6378p27.php', 'https://www.gsmarena.com/apple_iphone_6-reviews-6378p28.php', 'https://www.gsmarena.com/apple_iphone_6-reviews-6378p29.php', 'https://www.gsmarena.com/apple_iphone_6-reviews-6378p30.php', 'https://www.gsmarena.com/apple_iphone_6-reviews-6378p31.php', 'https://www.gsmarena.com/apple_iphone_6-reviews-6378p32.php', 'https://www.gsmarena.com/apple_iphone_6-reviews-6378p33.php', 'https://www.gsmarena.com/apple_iphone_6-reviews-6378p34.php', 'https://www.gsmarena.com/apple_iphone_6-reviews-6378p35.php', 'https://www.gsmarena.com/apple_iphone_6-reviews-6378p36.php', 'https://www.gsmarena.com/apple_iphone_6-reviews-6378p37.php', 'https://www.gsmarena.com/apple_iphone_6-reviews-6378p38.php', 'https://www.gsmarena.com/apple_iphone_6-reviews-6378p39.php', 'https://www.gsmarena.com/apple_iphone_6-reviews-6378p40.php', 'https://www.gsmarena.com/apple_iphone_6-reviews-6378p41.php', 'https://www.gsmarena.com/apple_iphone_6-reviews-6378p42.php', 'https://www.gsmarena.com/apple_iphone_6-reviews-6378p43.php', 'https://www.gsmarena.com/apple_iphone_6-reviews-6378p44.php', 'https://www.gsmarena.com/apple_iphone_6-reviews-6378p45.php', 'https://www.gsmarena.com/apple_iphone_6-reviews-6378p46.php', 'https://www.gsmarena.com/apple_iphone_6-reviews-6378p47.php', 'https://www.gsmarena.com/apple_iphone_6-reviews-6378p48.php', 'https://www.gsmarena.com/apple_iphone_6-reviews-6378p49.php', 'https://www.gsmarena.com/apple_iphone_6-reviews-6378p50.php', 'https://www.gsmarena.com/apple_iphone_6-reviews-6378p51.php', 'https://www.gsmarena.com/apple_iphone_6-reviews-6378p52.php', 'https://www.gsmarena.com/apple_iphone_6-reviews-6378p53.php', 'https://www.gsmarena.com/apple_iphone_6-reviews-6378p54.php', 'https://www.gsmarena.com/apple_iphone_6-reviews-6378p55.php', 'https://www.gsmarena.com/apple_iphone_6-reviews-6378p56.php', 'https://www.gsmarena.com/apple_iphone_6-reviews-6378p57.php', 'https://www.gsmarena.com/apple_iphone_6-reviews-6378p58.php', 'https://www.gsmarena.com/apple_iphone_6-reviews-6378p59.php', 'https://www.gsmarena.com/apple_iphone_6-reviews-6378p60.php', 'https://www.gsmarena.com/apple_iphone_6-reviews-6378p61.php', 'https://www.gsmarena.com/apple_iphone_6-reviews-6378p62.php', 'https://www.gsmarena.com/apple_iphone_6-reviews-6378p63.php', 'https://www.gsmarena.com/apple_iphone_6-reviews-6378p64.php', 'https://www.gsmarena.com/apple_iphone_6-reviews-6378p65.php', 'https://www.gsmarena.com/apple_iphone_6-reviews-6378p66.php', 'https://www.gsmarena.com/apple_iphone_6-reviews-6378p67.php', 'https://www.gsmarena.com/apple_iphone_6-reviews-6378p68.php', 'https://www.gsmarena.com/apple_iphone_6-reviews-6378p69.php', 'https://www.gsmarena.com/apple_iphone_6-reviews-6378p70.php', 'https://www.gsmarena.com/apple_iphone_6-reviews-6378p71.php', 'https://www.gsmarena.com/apple_iphone_6-reviews-6378p72.php', 'https://www.gsmarena.com/apple_iphone_6-reviews-6378p73.php', 'https://www.gsmarena.com/apple_iphone_6-reviews-6378p74.php', 'https://www.gsmarena.com/apple_iphone_6-reviews-6378p75.php', 'https://www.gsmarena.com/apple_iphone_6-reviews-6378p76.php', 'https://www.gsmarena.com/apple_iphone_6-reviews-6378p77.php', 'https://www.gsmarena.com/apple_iphone_6-reviews-6378p78.php', 'https://www.gsmarena.com/apple_iphone_6-reviews-6378p79.php', 'https://www.gsmarena.com/apple_iphone_6-reviews-6378p80.php', 'https://www.gsmarena.com/apple_iphone_6-reviews-6378p81.php', 'https://www.gsmarena.com/apple_iphone_6-reviews-6378p82.php', 'https://www.gsmarena.com/apple_iphone_6-reviews-6378p83.php', 'https://www.gsmarena.com/apple_iphone_6-reviews-6378p84.php', 'https://www.gsmarena.com/apple_iphone_6-reviews-6378p85.php', 'https://www.gsmarena.com/apple_iphone_6-reviews-6378p86.php', 'https://www.gsmarena.com/apple_iphone_6-reviews-6378p87.php', 'https://www.gsmarena.com/apple_iphone_6-reviews-6378p88.php', 'https://www.gsmarena.com/apple_iphone_6-reviews-6378p89.php', 'https://www.gsmarena.com/apple_iphone_6-reviews-6378p90.php', 'https://www.gsmarena.com/apple_iphone_6-reviews-6378p91.php', 'https://www.gsmarena.com/apple_iphone_6-reviews-6378p92.php', 'https://www.gsmarena.com/apple_iphone_6-reviews-6378p93.php', 'https://www.gsmarena.com/apple_iphone_6-reviews-6378p94.php', 'https://www.gsmarena.com/apple_iphone_6-reviews-6378p95.php', 'https://www.gsmarena.com/apple_iphone_6-reviews-6378p96.php', 'https://www.gsmarena.com/apple_iphone_6-reviews-6378p97.php', 'https://www.gsmarena.com/apple_iphone_6-reviews-6378p98.php', 'https://www.gsmarena.com/apple_iphone_6-reviews-6378p99.php', 'https://www.gsmarena.com/apple_iphone_6-reviews-6378p100.php', 'https://www.gsmarena.com/apple_iphone_6-reviews-6378p101.php', 'https://www.gsmarena.com/apple_iphone_6-reviews-6378p102.php', 'https://www.gsmarena.com/apple_iphone_6-reviews-6378p103.php', 'https://www.gsmarena.com/apple_iphone_6-reviews-6378p104.php', 'https://www.gsmarena.com/apple_iphone_6-reviews-6378p105.php', 'https://www.gsmarena.com/apple_iphone_6-reviews-6378p106.php', 'https://www.gsmarena.com/apple_iphone_6-reviews-6378p107.php', 'https://www.gsmarena.com/apple_iphone_6-reviews-6378p108.php', 'https://www.gsmarena.com/apple_iphone_6-reviews-6378p109.php', 'https://www.gsmarena.com/apple_iphone_6-reviews-6378p110.php', 'https://www.gsmarena.com/apple_iphone_6-reviews-6378p111.php', 'https://www.gsmarena.com/apple_iphone_6-reviews-6378p112.php', 'https://www.gsmarena.com/apple_iphone_6-reviews-6378p113.php', 'https://www.gsmarena.com/apple_iphone_6-reviews-6378p114.php', 'https://www.gsmarena.com/apple_iphone_6-reviews-6378p115.php', 'https://www.gsmarena.com/apple_iphone_6-reviews-6378p116.php', 'https://www.gsmarena.com/apple_iphone_6-reviews-6378p117.php', 'https://www.gsmarena.com/apple_iphone_6-reviews-6378p118.php', 'https://www.gsmarena.com/apple_iphone_6-reviews-6378p119.php', 'https://www.gsmarena.com/apple_iphone_6-reviews-6378p120.php', 'https://www.gsmarena.com/apple_iphone_6-reviews-6378p121.php', 'https://www.gsmarena.com/apple_iphone_6-reviews-6378p122.php', 'https://www.gsmarena.com/apple_iphone_6-reviews-6378p123.php', 'https://www.gsmarena.com/apple_iphone_6-reviews-6378p124.php', 'https://www.gsmarena.com/apple_iphone_6-reviews-6378p125.php', 'https://www.gsmarena.com/apple_iphone_6-reviews-6378p126.php', 'https://www.gsmarena.com/apple_iphone_6-reviews-6378p127.php', 'https://www.gsmarena.com/apple_iphone_6-reviews-6378p128.php', 'https://www.gsmarena.com/apple_iphone_6-reviews-6378p129.php', 'https://www.gsmarena.com/apple_iphone_6-reviews-6378p130.php', 'https://www.gsmarena.com/apple_iphone_6-reviews-6378p131.php', 'https://www.gsmarena.com/apple_iphone_6-reviews-6378p132.php', 'https://www.gsmarena.com/apple_iphone_6-reviews-6378p133.php', 'https://www.gsmarena.com/apple_iphone_6-reviews-6378p134.php', 'https://www.gsmarena.com/apple_iphone_6-reviews-6378p135.php', 'https://www.gsmarena.com/apple_iphone_6-reviews-6378p136.php', 'https://www.gsmarena.com/apple_iphone_6-reviews-6378p137.php', 'https://www.gsmarena.com/apple_iphone_6-reviews-6378p138.php', 'https://www.gsmarena.com/apple_iphone_6-reviews-6378p139.php', 'https://www.gsmarena.com/apple_iphone_6-reviews-6378p140.php', 'https://www.gsmarena.com/apple_iphone_6-reviews-6378p141.php', 'https://www.gsmarena.com/apple_iphone_6-reviews-6378p142.php', 'https://www.gsmarena.com/apple_iphone_6-reviews-6378p143.php', 'https://www.gsmarena.com/apple_iphone_6-reviews-6378p144.php', 'https://www.gsmarena.com/apple_iphone_6-reviews-6378p145.php', 'https://www.gsmarena.com/apple_iphone_6-reviews-6378p146.php', 'https://www.gsmarena.com/apple_iphone_6-reviews-6378p147.php', 'https://www.gsmarena.com/apple_iphone_6-reviews-6378p148.php', 'https://www.gsmarena.com/apple_iphone_6-reviews-6378p149.php', 'https://www.gsmarena.com/apple_iphone_6-reviews-6378p150.php', 'https://www.gsmarena.com/apple_iphone_6-reviews-6378p151.php', 'https://www.gsmarena.com/apple_iphone_6-reviews-6378p152.php', 'https://www.gsmarena.com/apple_iphone_6-reviews-6378p153.php', 'https://www.gsmarena.com/apple_iphone_6-reviews-6378p154.php', 'https://www.gsmarena.com/apple_iphone_6-reviews-6378p155.php', 'https://www.gsmarena.com/apple_iphone_6-reviews-6378p156.php', 'https://www.gsmarena.com/apple_iphone_6-reviews-6378p157.php', 'https://www.gsmarena.com/apple_iphone_6-reviews-6378p158.php', 'https://www.gsmarena.com/apple_iphone_6-reviews-6378p159.php', 'https://www.gsmarena.com/apple_iphone_6-reviews-6378p160.php', 'https://www.gsmarena.com/apple_iphone_6-reviews-6378p161.php', 'https://www.gsmarena.com/apple_iphone_6-reviews-6378p162.php', 'https://www.gsmarena.com/apple_iphone_6-reviews-6378p163.php', 'https://www.gsmarena.com/apple_iphone_6-reviews-6378p164.php', 'https://www.gsmarena.com/apple_iphone_6-reviews-6378p165.php', 'https://www.gsmarena.com/apple_iphone_6-reviews-6378p166.php', 'https://www.gsmarena.com/apple_iphone_6-reviews-6378p167.php', 'https://www.gsmarena.com/apple_iphone_6-reviews-6378p168.php', 'https://www.gsmarena.com/apple_iphone_6-reviews-6378p169.php', 'https://www.gsmarena.com/apple_iphone_6-reviews-6378p170.php', 'https://www.gsmarena.com/apple_iphone_6-reviews-6378p171.php', 'https://www.gsmarena.com/apple_iphone_6-reviews-6378p172.php', 'https://www.gsmarena.com/apple_iphone_6-reviews-6378p173.php', 'https://www.gsmarena.com/apple_iphone_6-reviews-6378p174.php', 'https://www.gsmarena.com/apple_iphone_6-reviews-6378p175.php', 'https://www.gsmarena.com/apple_iphone_6-reviews-6378p176.php', 'https://www.gsmarena.com/apple_iphone_6-reviews-6378p177.php', 'https://www.gsmarena.com/apple_iphone_6-reviews-6378p178.php', 'https://www.gsmarena.com/apple_iphone_6-reviews-6378p179.php', 'https://www.gsmarena.com/apple_iphone_6-reviews-6378p180.php', 'https://www.gsmarena.com/apple_iphone_6-reviews-6378p181.php', 'https://www.gsmarena.com/apple_iphone_6-reviews-6378p182.php', 'https://www.gsmarena.com/apple_iphone_6-reviews-6378p183.php', 'https://www.gsmarena.com/apple_iphone_6-reviews-6378p184.php', 'https://www.gsmarena.com/apple_iphone_6-reviews-6378p185.php', 'https://www.gsmarena.com/apple_iphone_6-reviews-6378p186.php', 'https://www.gsmarena.com/apple_iphone_6-reviews-6378p187.php', 'https://www.gsmarena.com/apple_iphone_6-reviews-6378p188.php', 'https://www.gsmarena.com/apple_iphone_6-reviews-6378p189.php', 'https://www.gsmarena.com/apple_iphone_6-reviews-6378p190.php', 'https://www.gsmarena.com/apple_iphone_6-reviews-6378p191.php', 'https://www.gsmarena.com/apple_iphone_6-reviews-6378p192.php', 'https://www.gsmarena.com/apple_iphone_6-reviews-6378p193.php', 'https://www.gsmarena.com/apple_iphone_6-reviews-6378p194.php', 'https://www.gsmarena.com/apple_iphone_6-reviews-6378p195.php', 'https://www.gsmarena.com/apple_iphone_6-reviews-6378p196.php', 'https://www.gsmarena.com/apple_iphone_6-reviews-6378p197.php', 'https://www.gsmarena.com/apple_iphone_6-reviews-6378p198.php', 'https://www.gsmarena.com/apple_iphone_6-reviews-6378p199.php', 'https://www.gsmarena.com/apple_iphone_6-reviews-6378p200.php', 'https://www.gsmarena.com/apple_iphone_6-reviews-6378p201.php', 'https://www.gsmarena.com/apple_iphone_6-reviews-6378p202.php', 'https://www.gsmarena.com/apple_iphone_6-reviews-6378p203.php', 'https://www.gsmarena.com/apple_iphone_6-reviews-6378p204.php', 'https://www.gsmarena.com/apple_iphone_6-reviews-6378p205.php', 'https://www.gsmarena.com/apple_iphone_6-reviews-6378p206.php', 'https://www.gsmarena.com/apple_iphone_6-reviews-6378p207.php', 'https://www.gsmarena.com/apple_iphone_6-reviews-6378p208.php', 'https://www.gsmarena.com/apple_iphone_6-reviews-6378p209.php', 'https://www.gsmarena.com/apple_iphone_6-reviews-6378p210.php', 'https://www.gsmarena.com/apple_iphone_6-reviews-6378p211.php', 'https://www.gsmarena.com/apple_iphone_6-reviews-6378p212.php', 'https://www.gsmarena.com/apple_iphone_6-reviews-6378p213.php', 'https://www.gsmarena.com/apple_iphone_6-reviews-6378p214.php', 'https://www.gsmarena.com/apple_iphone_6-reviews-6378p215.php', 'https://www.gsmarena.com/apple_iphone_6-reviews-6378p216.php', 'https://www.gsmarena.com/apple_iphone_6-reviews-6378p217.php', 'https://www.gsmarena.com/apple_iphone_6-reviews-6378p218.php', 'https://www.gsmarena.com/apple_iphone_6-reviews-6378p219.php', 'https://www.gsmarena.com/apple_iphone_6-reviews-6378p220.php', 'https://www.gsmarena.com/apple_iphone_6-reviews-6378p221.php', 'https://www.gsmarena.com/apple_iphone_6-reviews-6378p222.php', 'https://www.gsmarena.com/apple_iphone_6-reviews-6378p223.php', 'https://www.gsmarena.com/apple_iphone_6-reviews-6378p224.php', 'https://www.gsmarena.com/apple_iphone_6-reviews-6378p225.php', 'https://www.gsmarena.com/apple_iphone_6-reviews-6378p226.php', 'https://www.gsmarena.com/apple_iphone_6-reviews-6378p227.php', 'https://www.gsmarena.com/apple_iphone_6-reviews-6378p228.php', 'https://www.gsmarena.com/apple_iphone_6-reviews-6378p229.php', 'https://www.gsmarena.com/apple_iphone_6-reviews-6378p230.php', 'https://www.gsmarena.com/apple_iphone_6-reviews-6378p231.php', 'https://www.gsmarena.com/apple_iphone_6-reviews-6378p232.php', 'https://www.gsmarena.com/apple_iphone_6-reviews-6378p233.php', 'https://www.gsmarena.com/apple_iphone_6-reviews-6378p234.php', 'https://www.gsmarena.com/apple_iphone_6-reviews-6378p235.php', 'https://www.gsmarena.com/apple_iphone_6-reviews-6378p236.php', 'https://www.gsmarena.com/apple_iphone_6-reviews-6378p237.php', 'https://www.gsmarena.com/apple_iphone_6-reviews-6378p238.php', 'https://www.gsmarena.com/apple_iphone_6-reviews-6378p239.php', 'https://www.gsmarena.com/apple_iphone_6-reviews-6378p240.php', 'https://www.gsmarena.com/apple_iphone_6-reviews-6378p241.php', 'https://www.gsmarena.com/apple_iphone_6-reviews-6378p242.php', 'https://www.gsmarena.com/apple_iphone_6-reviews-6378p243.php', 'https://www.gsmarena.com/apple_iphone_6-reviews-6378p244.php', 'https://www.gsmarena.com/apple_iphone_6-reviews-6378p245.php', 'https://www.gsmarena.com/apple_iphone_6-reviews-6378p246.php', 'https://www.gsmarena.com/apple_iphone_6-reviews-6378p247.php', 'https://www.gsmarena.com/apple_iphone_6-reviews-6378p248.php', 'https://www.gsmarena.com/apple_iphone_6-reviews-6378p249.php', 'https://www.gsmarena.com/apple_iphone_6-reviews-6378p250.php', 'https://www.gsmarena.com/apple_iphone_6-reviews-6378p251.php', 'https://www.gsmarena.com/apple_iphone_6-reviews-6378p252.php', 'https://www.gsmarena.com/apple_iphone_6-reviews-6378p253.php', 'https://www.gsmarena.com/apple_iphone_6-reviews-6378p254.php', 'https://www.gsmarena.com/apple_iphone_6-reviews-6378p255.php', 'https://www.gsmarena.com/apple_iphone_6-reviews-6378p256.php', 'https://www.gsmarena.com/apple_iphone_6-reviews-6378p257.php', 'https://www.gsmarena.com/apple_iphone_6-reviews-6378p258.php', 'https://www.gsmarena.com/apple_iphone_6-reviews-6378p259.php', 'https://www.gsmarena.com/apple_iphone_6-reviews-6378p260.php', 'https://www.gsmarena.com/apple_iphone_6-reviews-6378p261.php', 'https://www.gsmarena.com/apple_iphone_6-reviews-6378p262.php', 'https://www.gsmarena.com/apple_iphone_6-reviews-6378p263.php', 'https://www.gsmarena.com/apple_iphone_6-reviews-6378p264.php', 'https://www.gsmarena.com/apple_iphone_6-reviews-6378p265.php', 'https://www.gsmarena.com/apple_iphone_6-reviews-6378p266.php', 'https://www.gsmarena.com/apple_iphone_6-reviews-6378p267.php', 'https://www.gsmarena.com/apple_iphone_6-reviews-6378p268.php', 'https://www.gsmarena.com/apple_iphone_6-reviews-6378p269.php', 'https://www.gsmarena.com/apple_iphone_6-reviews-6378p270.php', 'https://www.gsmarena.com/apple_iphone_6-reviews-6378p271.php', 'https://www.gsmarena.com/apple_iphone_6-reviews-6378p272.php', 'https://www.gsmarena.com/apple_iphone_6-reviews-6378p273.php', 'https://www.gsmarena.com/apple_iphone_6-reviews-6378p274.php', 'https://www.gsmarena.com/apple_iphone_6-reviews-6378p275.php', 'https://www.gsmarena.com/apple_iphone_6-reviews-6378p276.php', 'https://www.gsmarena.com/apple_iphone_6-reviews-6378p277.php', 'https://www.gsmarena.com/apple_iphone_6-reviews-6378p278.php', 'https://www.gsmarena.com/apple_iphone_6-reviews-6378p279.php', 'https://www.gsmarena.com/apple_iphone_6-reviews-6378p280.php', 'https://www.gsmarena.com/apple_iphone_6-reviews-6378p281.php', 'https://www.gsmarena.com/apple_iphone_6-reviews-6378p282.php', 'https://www.gsmarena.com/apple_iphone_6-reviews-6378p283.php', 'https://www.gsmarena.com/apple_iphone_6-reviews-6378p284.php', 'https://www.gsmarena.com/apple_iphone_6-reviews-6378p285.php', 'https://www.gsmarena.com/apple_iphone_6-reviews-6378p286.php', 'https://www.gsmarena.com/apple_iphone_6-reviews-6378p287.php', 'https://www.gsmarena.com/apple_iphone_6-reviews-6378p288.php', 'https://www.gsmarena.com/apple_iphone_6-reviews-6378p289.php', 'https://www.gsmarena.com/apple_iphone_6-reviews-6378p290.php', 'https://www.gsmarena.com/apple_iphone_6-reviews-6378p291.php', 'https://www.gsmarena.com/apple_iphone_6-reviews-6378p292.php', 'https://www.gsmarena.com/apple_iphone_6-reviews-6378p293.php', 'https://www.gsmarena.com/apple_iphone_6-reviews-6378p294.php', 'https://www.gsmarena.com/apple_iphone_6-reviews-6378p295.php', 'https://www.gsmarena.com/apple_iphone_6-reviews-6378p296.php', 'https://www.gsmarena.com/apple_iphone_6-reviews-6378p297.php', 'https://www.gsmarena.com/apple_iphone_6-reviews-6378p298.php', 'https://www.gsmarena.com/apple_iphone_6-reviews-6378p299.php', 'https://www.gsmarena.com/apple_iphone_6-reviews-6378p300.php', 'https://www.gsmarena.com/apple_iphone_6-reviews-6378p301.php', 'https://www.gsmarena.com/apple_iphone_6-reviews-6378p302.php', 'https://www.gsmarena.com/apple_iphone_6-reviews-6378p303.php', 'https://www.gsmarena.com/apple_iphone_6-reviews-6378p304.php', 'https://www.gsmarena.com/apple_iphone_6-reviews-6378p305.php', 'https://www.gsmarena.com/apple_iphone_6-reviews-6378p306.php', 'https://www.gsmarena.com/apple_iphone_6-reviews-6378p307.php', 'https://www.gsmarena.com/apple_iphone_6-reviews-6378p308.php', 'https://www.gsmarena.com/apple_iphone_6-reviews-6378p309.php', 'https://www.gsmarena.com/apple_iphone_6-reviews-6378p310.php', 'https://www.gsmarena.com/apple_iphone_6-reviews-6378p311.php', 'https://www.gsmarena.com/apple_iphone_6-reviews-6378p312.php', 'https://www.gsmarena.com/apple_iphone_6-reviews-6378p313.php', 'https://www.gsmarena.com/apple_iphone_6-reviews-6378p314.php', 'https://www.gsmarena.com/apple_iphone_6-reviews-6378p315.php', 'https://www.gsmarena.com/apple_iphone_6-reviews-6378p316.php', 'https://www.gsmarena.com/apple_iphone_6-reviews-6378p317.php', 'https://www.gsmarena.com/apple_iphone_6-reviews-6378p318.php', 'https://www.gsmarena.com/apple_iphone_6-reviews-6378p319.php', 'https://www.gsmarena.com/apple_iphone_6-reviews-6378p320.php', 'https://www.gsmarena.com/apple_iphone_6-reviews-6378p321.php', 'https://www.gsmarena.com/apple_iphone_6-reviews-6378p322.php', 'https://www.gsmarena.com/apple_iphone_6-reviews-6378p323.php', 'https://www.gsmarena.com/apple_iphone_6-reviews-6378p324.php', 'https://www.gsmarena.com/apple_iphone_6-reviews-6378p325.php', 'https://www.gsmarena.com/apple_iphone_6-reviews-6378p326.php', 'https://www.gsmarena.com/apple_iphone_6-reviews-6378p327.php', 'https://www.gsmarena.com/apple_iphone_6-reviews-6378p328.php', 'https://www.gsmarena.com/apple_iphone_6-reviews-6378p329.php', 'https://www.gsmarena.com/apple_iphone_6-reviews-6378p330.php', 'https://www.gsmarena.com/apple_iphone_6-reviews-6378p331.php', 'https://www.gsmarena.com/apple_iphone_6-reviews-6378p332.php', 'https://www.gsmarena.com/apple_iphone_6-reviews-6378p333.php', 'https://www.gsmarena.com/apple_iphone_6-reviews-6378p334.php', 'https://www.gsmarena.com/apple_iphone_6-reviews-6378p335.php', 'https://www.gsmarena.com/apple_iphone_6-reviews-6378p336.php', 'https://www.gsmarena.com/apple_iphone_6-reviews-6378p337.php', 'https://www.gsmarena.com/apple_iphone_6-reviews-6378p338.php', 'https://www.gsmarena.com/apple_iphone_6-reviews-6378p339.php', 'https://www.gsmarena.com/apple_iphone_6-reviews-6378p340.php', 'https://www.gsmarena.com/apple_iphone_6-reviews-6378p341.php', 'https://www.gsmarena.com/apple_iphone_6-reviews-6378p342.php', 'https://www.gsmarena.com/apple_iphone_6-reviews-6378p343.php', 'https://www.gsmarena.com/apple_iphone_6-reviews-6378p344.php', 'https://www.gsmarena.com/apple_iphone_6-reviews-6378p345.php', 'https://www.gsmarena.com/apple_iphone_6-reviews-6378p346.php', 'https://www.gsmarena.com/apple_iphone_6-reviews-6378p347.php', 'https://www.gsmarena.com/apple_iphone_6-reviews-6378p348.php', 'https://www.gsmarena.com/apple_iphone_6-reviews-6378p349.php', 'https://www.gsmarena.com/apple_iphone_6-reviews-6378p350.php', 'https://www.gsmarena.com/apple_iphone_6-reviews-6378p351.php', 'https://www.gsmarena.com/apple_iphone_6-reviews-6378p352.php', 'https://www.gsmarena.com/apple_iphone_6-reviews-6378p353.php', 'https://www.gsmarena.com/apple_iphone_6-reviews-6378p354.php', 'https://www.gsmarena.com/apple_iphone_6-reviews-6378p355.php', 'https://www.gsmarena.com/apple_iphone_6-reviews-6378p356.php', 'https://www.gsmarena.com/apple_iphone_6-reviews-6378p357.php', 'https://www.gsmarena.com/apple_iphone_6-reviews-6378p358.php', 'https://www.gsmarena.com/apple_iphone_6-reviews-6378p359.php', 'https://www.gsmarena.com/apple_iphone_6-reviews-6378p360.php', 'https://www.gsmarena.com/apple_iphone_6-reviews-6378p361.php', 'https://www.gsmarena.com/apple_iphone_6-reviews-6378p362.php', 'https://www.gsmarena.com/apple_iphone_6-reviews-6378p363.php', 'https://www.gsmarena.com/apple_iphone_6-reviews-6378p364.php', 'https://www.gsmarena.com/apple_iphone_6-reviews-6378p365.php', 'https://www.gsmarena.com/apple_iphone_6-reviews-6378p366.php', 'https://www.gsmarena.com/apple_iphone_6-reviews-6378p367.php', 'https://www.gsmarena.com/apple_iphone_6-reviews-6378p368.php', 'https://www.gsmarena.com/apple_iphone_6-reviews-6378p369.php', 'https://www.gsmarena.com/apple_iphone_6-reviews-6378p370.php', 'https://www.gsmarena.com/apple_iphone_6-reviews-6378p371.php', 'https://www.gsmarena.com/apple_iphone_6-reviews-6378p372.php', 'https://www.gsmarena.com/apple_iphone_6-reviews-6378p373.php', 'https://www.gsmarena.com/apple_iphone_6-reviews-6378p374.php', 'https://www.gsmarena.com/apple_iphone_6-reviews-6378p375.php', 'https://www.gsmarena.com/apple_iphone_6-reviews-6378p376.php', 'https://www.gsmarena.com/apple_iphone_6-reviews-6378p377.php', 'https://www.gsmarena.com/apple_iphone_6-reviews-6378p378.php', 'https://www.gsmarena.com/apple_iphone_6-reviews-6378p379.php', 'https://www.gsmarena.com/apple_iphone_6-reviews-6378p380.php', 'https://www.gsmarena.com/apple_iphone_6-reviews-6378p381.php', 'https://www.gsmarena.com/apple_iphone_6-reviews-6378p382.php', 'https://www.gsmarena.com/apple_iphone_6-reviews-6378p383.php', 'https://www.gsmarena.com/apple_iphone_6-reviews-6378p384.php', 'https://www.gsmarena.com/apple_iphone_6-reviews-6378p385.php', 'https://www.gsmarena.com/apple_iphone_6-reviews-6378p386.php', 'https://www.gsmarena.com/apple_iphone_6-reviews-6378p387.php', 'https://www.gsmarena.com/apple_iphone_6-reviews-6378p388.php', 'https://www.gsmarena.com/apple_iphone_6-reviews-6378p389.php', 'https://www.gsmarena.com/apple_iphone_6-reviews-6378p390.php', 'https://www.gsmarena.com/apple_iphone_6-reviews-6378p391.php', 'https://www.gsmarena.com/apple_iphone_6-reviews-6378p392.php', 'https://www.gsmarena.com/apple_iphone_6-reviews-6378p393.php', 'https://www.gsmarena.com/apple_iphone_6-reviews-6378p394.php', 'https://www.gsmarena.com/apple_iphone_6-reviews-6378p395.php', 'https://www.gsmarena.com/apple_iphone_6-reviews-6378p396.php', 'https://www.gsmarena.com/apple_iphone_6-reviews-6378p397.php', 'https://www.gsmarena.com/apple_iphone_6-reviews-6378p398.php', 'https://www.gsmarena.com/apple_iphone_6-reviews-6378p399.php', 'https://www.gsmarena.com/apple_iphone_6-reviews-6378p400.php', 'https://www.gsmarena.com/apple_iphone_6-reviews-6378p401.php', 'https://www.gsmarena.com/apple_iphone_6-reviews-6378p402.php', 'https://www.gsmarena.com/apple_iphone_6-reviews-6378p403.php', 'https://www.gsmarena.com/apple_iphone_6-reviews-6378p404.php', 'https://www.gsmarena.com/apple_iphone_6-reviews-6378p405.php', 'https://www.gsmarena.com/apple_iphone_6-reviews-6378p406.php', 'https://www.gsmarena.com/apple_iphone_6-reviews-6378p407.php', 'https://www.gsmarena.com/apple_iphone_6-reviews-6378p408.php', 'https://www.gsmarena.com/apple_iphone_6-reviews-6378p409.php', 'https://www.gsmarena.com/apple_iphone_6-reviews-6378p410.php', 'https://www.gsmarena.com/apple_iphone_6-reviews-6378p411.php', 'https://www.gsmarena.com/apple_iphone_6-reviews-6378p412.php', 'https://www.gsmarena.com/apple_iphone_6-reviews-6378p413.php', 'https://www.gsmarena.com/apple_iphone_6-reviews-6378p414.php', 'https://www.gsmarena.com/apple_iphone_6-reviews-6378p415.php', 'https://www.gsmarena.com/apple_iphone_6-reviews-6378p416.php', 'https://www.gsmarena.com/apple_iphone_6-reviews-6378p417.php', 'https://www.gsmarena.com/apple_iphone_6-reviews-6378p418.php', 'https://www.gsmarena.com/apple_iphone_6-reviews-6378p419.php', 'https://www.gsmarena.com/apple_iphone_6-reviews-6378p420.php', 'https://www.gsmarena.com/apple_iphone_6-reviews-6378p421.php', 'https://www.gsmarena.com/apple_iphone_6-reviews-6378p422.php', 'https://www.gsmarena.com/apple_iphone_6-reviews-6378p423.php', 'https://www.gsmarena.com/apple_iphone_6-reviews-6378p424.php', 'https://www.gsmarena.com/apple_iphone_6-reviews-6378p425.php', 'https://www.gsmarena.com/apple_iphone_6-reviews-6378p426.php', 'https://www.gsmarena.com/apple_iphone_6-reviews-6378p427.php', 'https://www.gsmarena.com/apple_iphone_6-reviews-6378p428.php', 'https://www.gsmarena.com/apple_iphone_6-reviews-6378p429.php', 'https://www.gsmarena.com/apple_iphone_6-reviews-6378p430.php', 'https://www.gsmarena.com/apple_iphone_6-reviews-6378p431.php', 'https://www.gsmarena.com/apple_iphone_6-reviews-6378p432.php', 'https://www.gsmarena.com/apple_iphone_6-reviews-6378p433.php', 'https://www.gsmarena.com/apple_iphone_6-reviews-6378p434.php', 'https://www.gsmarena.com/apple_iphone_6-reviews-6378p435.php', 'https://www.gsmarena.com/apple_iphone_6-reviews-6378p436.php', 'https://www.gsmarena.com/apple_iphone_6-reviews-6378p437.php', 'https://www.gsmarena.com/apple_iphone_6-reviews-6378p438.php', 'https://www.gsmarena.com/apple_iphone_6-reviews-6378p439.php', 'https://www.gsmarena.com/apple_iphone_6-reviews-6378p440.php', 'https://www.gsmarena.com/apple_iphone_6-reviews-6378p441.php', 'https://www.gsmarena.com/apple_iphone_6-reviews-6378p442.php', 'https://www.gsmarena.com/apple_iphone_6-reviews-6378p443.php', 'https://www.gsmarena.com/apple_iphone_6-reviews-6378p444.php', 'https://www.gsmarena.com/apple_iphone_6-reviews-6378p445.php', 'https://www.gsmarena.com/apple_iphone_6-reviews-6378p446.php', 'https://www.gsmarena.com/apple_iphone_6-reviews-6378p447.php', 'https://www.gsmarena.com/apple_iphone_6-reviews-6378p448.php', 'https://www.gsmarena.com/apple_iphone_6-reviews-6378p449.php', 'https://www.gsmarena.com/apple_iphone_6-reviews-6378p450.php', 'https://www.gsmarena.com/apple_iphone_6-reviews-6378p451.php', 'https://www.gsmarena.com/apple_iphone_6-reviews-6378p452.php', 'https://www.gsmarena.com/apple_iphone_6-reviews-6378p453.php', 'https://www.gsmarena.com/apple_iphone_6-reviews-6378p454.php', 'https://www.gsmarena.com/apple_iphone_6-reviews-6378p455.php', 'https://www.gsmarena.com/apple_iphone_6-reviews-6378p456.php', 'https://www.gsmarena.com/apple_iphone_6-reviews-6378p457.php', 'https://www.gsmarena.com/apple_iphone_6-reviews-6378p458.php', 'https://www.gsmarena.com/apple_iphone_6-reviews-6378p459.php', 'https://www.gsmarena.com/apple_iphone_6-reviews-6378p460.php', 'https://www.gsmarena.com/apple_iphone_6-reviews-6378p461.php', 'https://www.gsmarena.com/apple_iphone_6-reviews-6378p462.php', 'https://www.gsmarena.com/apple_iphone_6-reviews-6378p463.php', 'https://www.gsmarena.com/apple_iphone_6-reviews-6378p464.php', 'https://www.gsmarena.com/apple_iphone_6-reviews-6378p465.php', 'https://www.gsmarena.com/apple_iphone_6-reviews-6378p466.php', 'https://www.gsmarena.com/apple_iphone_6-reviews-6378p467.php', 'https://www.gsmarena.com/apple_iphone_6-reviews-6378p468.php', 'https://www.gsmarena.com/apple_iphone_6-reviews-6378p469.php', 'https://www.gsmarena.com/apple_iphone_6-reviews-6378p470.php', 'https://www.gsmarena.com/apple_iphone_6-reviews-6378p471.php', 'https://www.gsmarena.com/apple_iphone_6-reviews-6378p472.php', 'https://www.gsmarena.com/apple_iphone_6-reviews-6378p473.php', 'https://www.gsmarena.com/apple_iphone_6-reviews-6378p474.php', 'https://www.gsmarena.com/apple_iphone_6-reviews-6378p475.php', 'https://www.gsmarena.com/apple_iphone_6-reviews-6378p476.php', 'https://www.gsmarena.com/apple_iphone_6-reviews-6378p477.php', 'https://www.gsmarena.com/apple_iphone_6-reviews-6378p478.php', 'https://www.gsmarena.com/apple_iphone_6-reviews-6378p479.php', 'https://www.gsmarena.com/apple_iphone_6-reviews-6378p480.php', 'https://www.gsmarena.com/apple_iphone_6-reviews-6378p481.php', 'https://www.gsmarena.com/apple_iphone_6-reviews-6378p482.php', 'https://www.gsmarena.com/apple_iphone_6-reviews-6378p483.php', 'https://www.gsmarena.com/apple_iphone_6-reviews-6378p484.php', 'https://www.gsmarena.com/apple_iphone_6-reviews-6378p485.php', 'https://www.gsmarena.com/apple_iphone_6-reviews-6378p486.php', 'https://www.gsmarena.com/apple_iphone_6-reviews-6378p487.php', 'https://www.gsmarena.com/apple_iphone_6-reviews-6378p488.php', 'https://www.gsmarena.com/apple_iphone_6-reviews-6378p489.php', 'https://www.gsmarena.com/apple_iphone_6-reviews-6378p490.php', 'https://www.gsmarena.com/apple_iphone_6-reviews-6378p491.php', 'https://www.gsmarena.com/apple_iphone_6-reviews-6378p492.php', 'https://www.gsmarena.com/apple_iphone_6-reviews-6378p493.php', 'https://www.gsmarena.com/apple_iphone_6-reviews-6378p494.php', 'https://www.gsmarena.com/apple_iphone_6-reviews-6378p495.php', 'https://www.gsmarena.com/apple_iphone_6-reviews-6378p496.php', 'https://www.gsmarena.com/apple_iphone_6-reviews-6378p497.php', 'https://www.gsmarena.com/apple_iphone_6-reviews-6378p498.php', 'https://www.gsmarena.com/apple_iphone_6-reviews-6378p499.php', 'https://www.gsmarena.com/apple_iphone_6-reviews-6378p500.php', 'https://www.gsmarena.com/apple_iphone_6-reviews-6378p501.php', 'https://www.gsmarena.com/apple_iphone_6-reviews-6378p502.php', 'https://www.gsmarena.com/apple_iphone_6-reviews-6378p503.php', 'https://www.gsmarena.com/apple_iphone_6-reviews-6378p504.php', 'https://www.gsmarena.com/apple_iphone_6-reviews-6378p505.php', 'https://www.gsmarena.com/apple_iphone_6-reviews-6378p506.php', 'https://www.gsmarena.com/apple_iphone_6-reviews-6378p507.php', 'https://www.gsmarena.com/apple_iphone_6-reviews-6378p508.php', 'https://www.gsmarena.com/apple_iphone_6-reviews-6378p509.php', 'https://www.gsmarena.com/apple_iphone_6-reviews-6378p510.php', 'https://www.gsmarena.com/apple_iphone_6-reviews-6378p511.php']\n"
     ]
    }
   ],
   "source": [
    "pageurl =[]\n",
    "for i in range(2,512):\n",
    "    pageurl.append('https://www.gsmarena.com/apple_iphone_6-reviews-6378p'+str(i)+'.php')\n",
    "print(pageurl)"
   ]
  },
  {
   "cell_type": "markdown",
   "metadata": {},
   "source": [
    "# Fifth Question"
   ]
  },
  {
   "cell_type": "code",
   "execution_count": null,
   "metadata": {},
   "outputs": [],
   "source": [
    "def get_info(review, selector , attribute):\n",
    "    try:    \n",
    "        tag = review.find_element_by_css_selector(selector)\n",
    "    \n",
    "        tag = tag.get_attribute(attribute)\n",
    "    except:\n",
    "        tag=None\n",
    "    return tag\n",
    "for url in pageurl:\n",
    "        browser.get(url)\n",
    "        username = get_info(review, 'li.uname2','innerHTML')\n",
    "        reviewdate = get_info(review,'time','innerHTML')\n",
    "        reviewtext= get_info(review,'span.uinreply-msg','innerHTML')\n",
    "        upvotes = get_info(review,'span.uavatar-stat post-count','innerHTML')\n",
    "        ratingvalue=get_info(review,'span.thumbs-score','innerHTML')\n",
    "        curr_review={'username':username,\n",
    "             'reviewdate':reviewdate,\n",
    "             'reviewtext':reviewtext,\n",
    "             'upvotes':upvotes,\n",
    "             'ratingvalue':ratingvalue\n",
    "             }\n",
    "        df_reviews=df_reviews.append(curr_review,ignore_index=True)\n",
    "print(df_reviews)\n",
    "       "
   ]
  },
  {
   "cell_type": "code",
   "execution_count": null,
   "metadata": {},
   "outputs": [],
   "source": []
  }
 ],
 "metadata": {
  "kernelspec": {
   "display_name": "Python 3",
   "language": "python",
   "name": "python3"
  },
  "language_info": {
   "codemirror_mode": {
    "name": "ipython",
    "version": 3
   },
   "file_extension": ".py",
   "mimetype": "text/x-python",
   "name": "python",
   "nbconvert_exporter": "python",
   "pygments_lexer": "ipython3",
   "version": "3.6.5"
  }
 },
 "nbformat": 4,
 "nbformat_minor": 2
}
